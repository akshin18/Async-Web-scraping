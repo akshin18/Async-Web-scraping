{
  "nbformat": 4,
  "nbformat_minor": 0,
  "metadata": {
    "colab": {
      "name": "Untitled0.ipynb",
      "provenance": [],
      "collapsed_sections": [],
      "mount_file_id": "1sCLTRZmzkTsO7DjpUmNwC3Vu33REy_Zp",
      "authorship_tag": "ABX9TyOl4s1IC7w00E2eU3JseW6Z",
      "include_colab_link": true
    },
    "kernelspec": {
      "name": "python3",
      "display_name": "Python 3"
    },
    "language_info": {
      "name": "python"
    }
  },
  "cells": [
    {
      "cell_type": "markdown",
      "metadata": {
        "id": "view-in-github",
        "colab_type": "text"
      },
      "source": [
        "<a href=\"https://colab.research.google.com/github/akshin18/Async-Web-scraping/blob/''/Untitled0.ipynb\" target=\"_parent\"><img src=\"https://colab.research.google.com/assets/colab-badge.svg\" alt=\"Open In Colab\"/></a>"
      ]
    },
    {
      "cell_type": "code",
      "metadata": {
        "id": "906SWLBfCDOq"
      },
      "source": [
        "import requests\n",
        "import uuid\n",
        "from PIL import Image\n",
        "import os\n",
        "\n",
        "image_url = \"http://login.sina.com.cn/cgi/pin.php?r=8787878&s=0\"\n",
        "for i in range(8000):\n",
        "    try:\n",
        "        resp = requests.get(image_url)\n",
        "        filename = str(uuid.uuid4()) + \".gif\"\n",
        "        with open(\"./captchas/\" + filename, 'wb') as f:\n",
        "            for chunk in resp.iter_content(chunk_size=1024):\n",
        "                if chunk:  # filter out keep-alive new chunks\n",
        "                    f.write(chunk)\n",
        "                    f.flush()\n",
        "            f.close()\n",
        "        im = Image.open(\"./captchas/\" + filename)\n",
        "        try:\n",
        "            im = Image.open(\"./captchas/\" + filename)\n",
        "            im.save(\"./captchas/\" + filename.split('.gif')[0] + \".png\")\n",
        "        except Exception as ex:\n",
        "            print(Exception, \":\", ex)\n",
        "        os.remove(\"./captchas/\" + filename)\n",
        "        print(filename)\n",
        "    except Exception as  ex:\n",
        "        print(Exception, \":\", ex)"
      ],
      "execution_count": null,
      "outputs": []
    },
    {
      "cell_type": "code",
      "metadata": {
        "colab": {
          "base_uri": "https://localhost:8080/"
        },
        "id": "Uvbd82KsMVL3",
        "outputId": "5f5b35da-f3fd-4db3-bc92-ba57b37501fb"
      },
      "source": [
        "import os\n",
        "# path = os.path.join(os.getcwd(),os.listdir()[1])\n",
        "# os.chdir(os.path.join(os.getcwd(),os.listdir()[1]))\n",
        "os.chdir(\"captchas\")\n",
        "\n"
      ],
      "execution_count": null,
      "outputs": [
        {
          "output_type": "stream",
          "name": "stdout",
          "text": [
            "[]\n"
          ]
        }
      ]
    },
    {
      "cell_type": "code",
      "metadata": {
        "id": "kmwz4rQfNu0i",
        "colab": {
          "base_uri": "https://localhost:8080/",
          "height": 367
        },
        "outputId": "f7608258-6185-4185-b383-0301e133ec77"
      },
      "source": [
        "# !pip install captcha_solver\n",
        "import os\n",
        "from captcha_solver import CaptchaSolver\n",
        "\n",
        "for zi,el in enumerate(os.listdir()):\n",
        "  if len(el) > 15:\n",
        "    solver = CaptchaSolver('rucaptcha', api_key='f340feed2b5e3228e2da3a2dcdbfa817')\n",
        "    raw_data = open(el, 'rb').read()\n",
        "    print(el)\n",
        "    print(zi,\"FROM\",len(os.listdir()))\n",
        "\n",
        "\n",
        "\n",
        "    os.rename(el,solver.solve_captcha(raw_data)+\".png\")\n",
        "# os.listdir()"
      ],
      "execution_count": null,
      "outputs": [
        {
          "output_type": "error",
          "ename": "ModuleNotFoundError",
          "evalue": "ignored",
          "traceback": [
            "\u001b[0;31m---------------------------------------------------------------------------\u001b[0m",
            "\u001b[0;31mModuleNotFoundError\u001b[0m                       Traceback (most recent call last)",
            "\u001b[0;32m<ipython-input-1-6e4370b1c50b>\u001b[0m in \u001b[0;36m<module>\u001b[0;34m()\u001b[0m\n\u001b[1;32m      1\u001b[0m \u001b[0;31m# !pip install captcha_solver\u001b[0m\u001b[0;34m\u001b[0m\u001b[0;34m\u001b[0m\u001b[0;34m\u001b[0m\u001b[0m\n\u001b[1;32m      2\u001b[0m \u001b[0;32mimport\u001b[0m \u001b[0mos\u001b[0m\u001b[0;34m\u001b[0m\u001b[0;34m\u001b[0m\u001b[0m\n\u001b[0;32m----> 3\u001b[0;31m \u001b[0;32mfrom\u001b[0m \u001b[0mcaptcha_solver\u001b[0m \u001b[0;32mimport\u001b[0m \u001b[0mCaptchaSolver\u001b[0m\u001b[0;34m\u001b[0m\u001b[0;34m\u001b[0m\u001b[0m\n\u001b[0m\u001b[1;32m      4\u001b[0m \u001b[0;34m\u001b[0m\u001b[0m\n\u001b[1;32m      5\u001b[0m \u001b[0;32mfor\u001b[0m \u001b[0mzi\u001b[0m\u001b[0;34m,\u001b[0m\u001b[0mel\u001b[0m \u001b[0;32min\u001b[0m \u001b[0menumerate\u001b[0m\u001b[0;34m(\u001b[0m\u001b[0mos\u001b[0m\u001b[0;34m.\u001b[0m\u001b[0mlistdir\u001b[0m\u001b[0;34m(\u001b[0m\u001b[0;34m)\u001b[0m\u001b[0;34m)\u001b[0m\u001b[0;34m:\u001b[0m\u001b[0;34m\u001b[0m\u001b[0;34m\u001b[0m\u001b[0m\n",
            "\u001b[0;31mModuleNotFoundError\u001b[0m: No module named 'captcha_solver'",
            "",
            "\u001b[0;31m---------------------------------------------------------------------------\u001b[0;32m\nNOTE: If your import is failing due to a missing package, you can\nmanually install dependencies using either !pip or !apt.\n\nTo view examples of installing some common dependencies, click the\n\"Open Examples\" button below.\n\u001b[0;31m---------------------------------------------------------------------------\u001b[0m\n"
          ],
          "errorDetails": {
            "actions": [
              {
                "action": "open_url",
                "actionText": "Open Examples",
                "url": "/notebooks/snippets/importing_libraries.ipynb"
              }
            ]
          }
        }
      ]
    },
    {
      "cell_type": "code",
      "metadata": {
        "id": "CQSYG681yixS"
      },
      "source": [
        "# !pip install aiofiles aiohttp\n",
        "\n",
        "import aiohttp\n",
        "import asyncio\n",
        "import aiofiles\n",
        "import random\n",
        "import string\n",
        "import nest_asyncio\n",
        "nest_asyncio.apply()\n",
        "\n",
        "async def runi(name):\n",
        "    url = \"http://login.sina.com.cn/cgi/pin.php?r=8787878&s=0\"\n",
        "\n",
        "    async with aiohttp.ClientSession() as session:\n",
        "        r = await  session.get(url)\n",
        "        text = await r.read()\n",
        "        async with aiofiles.open(name, mode='wb') as f:\n",
        "            await f.write(text)\n",
        "\n",
        "    \n",
        "\n",
        "\n",
        "\n",
        "async def maa():\n",
        "    tasks = []\n",
        "    for i in range(500):\n",
        "        ar = string.ascii_letters + string.digits\n",
        "        name = \"\".join(random.choice(ar) for x in range(20))+\".png\"\n",
        "        tasks.append(asyncio.create_task(runi(name)))\n",
        "    await asyncio.gather(*tasks)\n",
        "\n",
        "\n",
        "if __name__ == '__main__':\n",
        "    asyncio.get_event_loop().run_until_complete(maa())\n"
      ],
      "execution_count": 38,
      "outputs": []
    },
    {
      "cell_type": "code",
      "metadata": {
        "id": "QKgNAiuaRYAm",
        "colab": {
          "base_uri": "https://localhost:8080/"
        },
        "outputId": "62487e49-e450-4390-b8c6-c22d224b858a"
      },
      "source": [
        "# from PIL import Image\n",
        "# import os\n",
        "\n",
        "# # print(len(os.listdir()))\n",
        "# Image.open(os.listdir())\n",
        "from google.colab import drive\n",
        "drive.mount('/content/drive')"
      ],
      "execution_count": 48,
      "outputs": [
        {
          "output_type": "stream",
          "name": "stdout",
          "text": [
            "Drive already mounted at /content/drive; to attempt to forcibly remount, call drive.mount(\"/content/drive\", force_remount=True).\n"
          ]
        }
      ]
    }
  ]
}